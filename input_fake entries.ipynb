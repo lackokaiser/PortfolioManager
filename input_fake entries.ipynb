{
 "cells": [
  {
   "cell_type": "code",
   "execution_count": 1,
   "metadata": {},
   "outputs": [],
   "source": [
    "import mysql.connector\n",
    "creds = {\n",
    "    'host' : \"localhost\",\n",
    "    'user' : \"root\",\n",
    "     'password' : \"n3u3da!\",\n",
    "     'database' : \"CSFoundation\"\n",
    "}\n"
   ]
  },
  {
   "cell_type": "code",
   "execution_count": 3,
   "metadata": {},
   "outputs": [],
   "source": [
    "#Input fake entries to stock database\n",
    "with mysql.connector.connect(**creds) as stock_db:\n",
    "    cursor = stock_db.cursor()\n",
    "    #Create dummy entries for teh portfolio\n",
    "    stockinfo = [(\"AAPL\", \"Apple\", \"150.20\", \"3.76\"),\n",
    "                    (\"GOOGL\", \"Alphabet\", \"2800.50\", \"2.15\"),\n",
    "                    (\"AMZN\", \"Amazon\", \"3400.00\", \"1.25\"),\n",
    "                    (\"MSFT\", \"Microsoft\", \"299.50\", \"4.10\"),\n",
    "                    (\"TSLA\", \"Tesla\", \"750.00\", \"5.00\"),\n",
    "                    (\"NFLX\", \"Netflix\", \"550.00\", \"2.00\"),\n",
    "                    (\"FB\", \"Facebook\", \"350.00\", \"3.50\"),\n",
    "                    (\"NVDA\", \"Nvidia\", \"600.00\", \"1.80\"),\n",
    "                    (\"DIS\", \"Disney\", \"180.00\", \"2.25\"),\n",
    "                    (\"V\", \"Visa\", \"220.00\", \"4.00\")]\n",
    "    #Insert the dummy entries into the stock table\n",
    "    cursor.executemany(\"INSERT INTO stockdemotwo (ticker, name, value, quantity) VALUES (%s, %s, %s, %s)\", stockinfo)\n",
    "    #Commit the changes to the database \n",
    "    stock_db.commit()"
   ]
  }
 ],
 "metadata": {
  "kernelspec": {
   "display_name": "Python 3",
   "language": "python",
   "name": "python3"
  },
  "language_info": {
   "codemirror_mode": {
    "name": "ipython",
    "version": 3
   },
   "file_extension": ".py",
   "mimetype": "text/x-python",
   "name": "python",
   "nbconvert_exporter": "python",
   "pygments_lexer": "ipython3",
   "version": "3.13.2"
  }
 },
 "nbformat": 4,
 "nbformat_minor": 2
}
