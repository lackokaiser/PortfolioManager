{
 "cells": [
  {
   "cell_type": "code",
   "execution_count": 33,
   "metadata": {},
   "outputs": [],
   "source": [
    "import mysql.connector\n",
    "creds = {\n",
    "    'host' : \"localhost\",\n",
    "    'user' : \"root\",\n",
    "     'password' : \"n3u3da!\",\n",
    "     'database' : \"CSFoundations\"\n",
    "}\n"
   ]
  },
  {
   "cell_type": "code",
   "execution_count": 30,
   "metadata": {},
   "outputs": [],
   "source": [
    "with mysql.connector.connect(**creds) as stock_db:\n",
    "    cursor = stock_db.cursor(dictionary=True)\n",
    "    cursor.execute(\"select ticker, stock_name, sum(quantity) as quantity, sum(stock_price * quantity) as value from stockdemo group by ticker, stock_name\")\n",
    "    res = cursor.fetchall()"
   ]
  },
  {
   "cell_type": "code",
   "execution_count": 36,
   "metadata": {},
   "outputs": [],
   "source": [
    "#Input fake entries to stock database\n",
    "with mysql.connector.connect(**creds) as stock_db:\n",
    "    cursor = stock_db.cursor()\n",
    "    #Create dummy entries for teh portfolio\n",
    "    stockinfo = [(\"AAPL\", \"Apple\", \"150.20\", \"2.76\"),\n",
    "                    (\"GOOGL\", \"Alphabet\", \"2800.50\", \"1.15\"),\n",
    "                    (\"AMZN\", \"Amazon\", \"3400.00\", \"1\"),\n",
    "                    (\"MSFT\", \"Microsoft\", \"299.50\", \"10\"),\n",
    "                    (\"TSLA\", \"Tesla\", \"750.00\", \"5\"),\n",
    "                    (\"NFLX\", \"Netflix\", \"550.00\", \"4.00\"),\n",
    "                    (\"FB\", \"Facebook\", \"3350.00\", \"0.50\"),\n",
    "                    (\"NVDA\", \"Nvidia\", \"600.00\", \".80\"),\n",
    "                    (\"DIS\", \"Disney\", \"180.00\", \"25\"),\n",
    "                    (\"V\", \"Visa\", \"220.00\", \"41\")]\n",
    "    #Insert the dummy entries into the stock table\n",
    "    cursor.executemany(\"INSERT INTO stockdemo (ticker, stock_name, stock_value, quantity) VALUES (%s, %s, %s, %s)\", stockinfo)\n",
    "    #Commit the changes to the database \n",
    "    stock_db.commit()"
   ]
  }
 ],
 "metadata": {
  "kernelspec": {
   "display_name": "wisdomenv",
   "language": "python",
   "name": "python3"
  },
  "language_info": {
   "codemirror_mode": {
    "name": "ipython",
    "version": 3
   },
   "file_extension": ".py",
   "mimetype": "text/x-python",
   "name": "python",
   "nbconvert_exporter": "python",
   "pygments_lexer": "ipython3",
   "version": "3.13.2"
  }
 },
 "nbformat": 4,
 "nbformat_minor": 2
}
