{
 "cells": [
  {
   "cell_type": "code",
   "execution_count": 31,
   "metadata": {},
   "outputs": [],
   "source": [
    "import mysql.connector\n",
    "import numpy as np\n",
    "import pandas as pd\n",
    "import requests \n",
    "import yfinance as yf\n",
    "creds = {\n",
    "    'host' : \"localhost\",\n",
    "    'user' : \"root\",\n",
    "     'password' : \"n3u3da!\",\n",
    "     'database' : \"CSFoundations\"\n",
    "}\n"
   ]
  },
  {
   "cell_type": "code",
   "execution_count": 13,
   "metadata": {},
   "outputs": [],
   "source": [
    "res= requests.get(\"http://127.0.0.1:5000/api/v1/stock/AAPL/history\")"
   ]
  },
  {
   "cell_type": "code",
   "execution_count": null,
   "metadata": {},
   "outputs": [],
   "source": []
  },
  {
   "cell_type": "code",
   "execution_count": 135,
   "metadata": {},
   "outputs": [],
   "source": [
    "tickers= ['AAPL', 'GOOGL', 'MSFT', 'AMZN', 'TSLA', 'NFLX', 'FB', 'NVDA', 'DIS', 'V']\n",
    "# data= []\n",
    "# for ticker in tickers:\n",
    "#             stock = yf.Ticker(ticker)\n",
    "#             info = stock.info\n",
    "\n",
    "#             # calculating the price growth\n",
    "#             current = info.get(\"regularMarketPrice\", 0)\n",
    "#             previous = info.get(\"previousClose\", 1) \n",
    "#             growth = (current - previous) / previous\n",
    "\n",
    "#             # stock info\n",
    "#             data.append({\n",
    "#                 \"ticker\": ticker,\n",
    "#                 \"name\": info.get(\"shortName\", \"\"),\n",
    "#                 \"price\": current,\n",
    "#                 \"previous_close\": previous,\n",
    "#                 \"growth\": growth\n",
    "#             })\n",
    "# data            "
   ]
  },
  {
   "cell_type": "code",
   "execution_count": null,
   "metadata": {},
   "outputs": [
    {
     "name": "stderr",
     "output_type": "stream",
     "text": [
      "[                       0%                       ]"
     ]
    },
    {
     "name": "stderr",
     "output_type": "stream",
     "text": [
      "[*********************100%***********************]  10 of 10 completed\n"
     ]
    }
   ],
   "source": [
    "stocks = yf.Tickers(tickers).download(period='1wk', auto_adjust=True)\n",
    "day_performance = stocks.Close\n"
   ]
  },
  {
   "cell_type": "code",
   "execution_count": null,
   "metadata": {},
   "outputs": [
    {
     "name": "stderr",
     "output_type": "stream",
     "text": [
      "[*********************100%***********************]  10 of 10 completed\n"
     ]
    },
    {
     "data": {
      "application/vnd.microsoft.datawrangler.viewer.v0+json": {
       "columns": [
        {
         "name": "Date",
         "rawType": "datetime64[ns]",
         "type": "datetime"
        },
        {
         "name": "AAPL",
         "rawType": "float64",
         "type": "float"
        },
        {
         "name": "AMZN",
         "rawType": "float64",
         "type": "float"
        },
        {
         "name": "DIS",
         "rawType": "float64",
         "type": "float"
        },
        {
         "name": "FB",
         "rawType": "float64",
         "type": "float"
        },
        {
         "name": "GOOGL",
         "rawType": "float64",
         "type": "float"
        },
        {
         "name": "MSFT",
         "rawType": "float64",
         "type": "float"
        },
        {
         "name": "NFLX",
         "rawType": "float64",
         "type": "float"
        },
        {
         "name": "NVDA",
         "rawType": "float64",
         "type": "float"
        },
        {
         "name": "TSLA",
         "rawType": "float64",
         "type": "float"
        },
        {
         "name": "V",
         "rawType": "float64",
         "type": "float"
        }
       ],
       "ref": "987c1977-70ef-467d-a67f-678781b7ed67",
       "rows": [
        [
         "2025-07-31 00:00:00",
         "207.57000732421875",
         "234.11000061035156",
         "119.11000061035156",
         "40.56700134277344",
         "191.89999389648438",
         "533.5",
         "1159.4000244140625",
         "177.8699951171875",
         "308.2699890136719",
         "345.4700012207031"
        ],
        [
         "2025-08-01 00:00:00",
         "202.3800048828125",
         "214.75",
         "116.58999633789062",
         "40.263999938964844",
         "189.1300048828125",
         "524.1099853515625",
         "1158.5999755859375",
         "173.72000122070312",
         "302.6300048828125",
         "339.3500061035156"
        ],
        [
         "2025-08-04 00:00:00",
         "203.35000610351562",
         "211.64999389648438",
         "119.3499984741211",
         "40.54999923706055",
         "195.0399932861328",
         "535.6400146484375",
         "1170.989990234375",
         "180.0",
         "309.260009765625",
         "342.1499938964844"
        ],
        [
         "2025-08-05 00:00:00",
         "202.9199981689453",
         "213.75",
         "118.31999969482422",
         "40.43000030517578",
         "194.6699981689453",
         "527.75",
         "1147.8699951171875",
         "178.25999450683594",
         "308.7200012207031",
         "337.42999267578125"
        ],
        [
         "2025-08-06 00:00:00",
         "213.25",
         "222.30999755859375",
         "115.16999816894531",
         "40.52000045776367",
         "196.08999633789062",
         "524.9400024414062",
         "1178.47998046875",
         "179.4199981689453",
         "319.9100036621094",
         "339.739990234375"
        ],
        [
         "2025-08-07 00:00:00",
         "219.01840209960938",
         "224.91000366210938",
         "115.05000305175781",
         "40.52000045776367",
         "196.25",
         "525.72998046875",
         "1180.72998046875",
         "183.14100646972656",
         "321.3370056152344",
         "339.82000732421875"
        ]
       ],
       "shape": {
        "columns": 10,
        "rows": 6
       }
      },
      "text/html": [
       "<div>\n",
       "<style scoped>\n",
       "    .dataframe tbody tr th:only-of-type {\n",
       "        vertical-align: middle;\n",
       "    }\n",
       "\n",
       "    .dataframe tbody tr th {\n",
       "        vertical-align: top;\n",
       "    }\n",
       "\n",
       "    .dataframe thead th {\n",
       "        text-align: right;\n",
       "    }\n",
       "</style>\n",
       "<table border=\"1\" class=\"dataframe\">\n",
       "  <thead>\n",
       "    <tr style=\"text-align: right;\">\n",
       "      <th>Ticker</th>\n",
       "      <th>AAPL</th>\n",
       "      <th>AMZN</th>\n",
       "      <th>DIS</th>\n",
       "      <th>FB</th>\n",
       "      <th>GOOGL</th>\n",
       "      <th>MSFT</th>\n",
       "      <th>NFLX</th>\n",
       "      <th>NVDA</th>\n",
       "      <th>TSLA</th>\n",
       "      <th>V</th>\n",
       "    </tr>\n",
       "    <tr>\n",
       "      <th>Date</th>\n",
       "      <th></th>\n",
       "      <th></th>\n",
       "      <th></th>\n",
       "      <th></th>\n",
       "      <th></th>\n",
       "      <th></th>\n",
       "      <th></th>\n",
       "      <th></th>\n",
       "      <th></th>\n",
       "      <th></th>\n",
       "    </tr>\n",
       "  </thead>\n",
       "  <tbody>\n",
       "    <tr>\n",
       "      <th>2025-07-31</th>\n",
       "      <td>207.570007</td>\n",
       "      <td>234.110001</td>\n",
       "      <td>119.110001</td>\n",
       "      <td>40.567001</td>\n",
       "      <td>191.899994</td>\n",
       "      <td>533.500000</td>\n",
       "      <td>1159.400024</td>\n",
       "      <td>177.869995</td>\n",
       "      <td>308.269989</td>\n",
       "      <td>345.470001</td>\n",
       "    </tr>\n",
       "    <tr>\n",
       "      <th>2025-08-01</th>\n",
       "      <td>202.380005</td>\n",
       "      <td>214.750000</td>\n",
       "      <td>116.589996</td>\n",
       "      <td>40.264000</td>\n",
       "      <td>189.130005</td>\n",
       "      <td>524.109985</td>\n",
       "      <td>1158.599976</td>\n",
       "      <td>173.720001</td>\n",
       "      <td>302.630005</td>\n",
       "      <td>339.350006</td>\n",
       "    </tr>\n",
       "    <tr>\n",
       "      <th>2025-08-04</th>\n",
       "      <td>203.350006</td>\n",
       "      <td>211.649994</td>\n",
       "      <td>119.349998</td>\n",
       "      <td>40.549999</td>\n",
       "      <td>195.039993</td>\n",
       "      <td>535.640015</td>\n",
       "      <td>1170.989990</td>\n",
       "      <td>180.000000</td>\n",
       "      <td>309.260010</td>\n",
       "      <td>342.149994</td>\n",
       "    </tr>\n",
       "    <tr>\n",
       "      <th>2025-08-05</th>\n",
       "      <td>202.919998</td>\n",
       "      <td>213.750000</td>\n",
       "      <td>118.320000</td>\n",
       "      <td>40.430000</td>\n",
       "      <td>194.669998</td>\n",
       "      <td>527.750000</td>\n",
       "      <td>1147.869995</td>\n",
       "      <td>178.259995</td>\n",
       "      <td>308.720001</td>\n",
       "      <td>337.429993</td>\n",
       "    </tr>\n",
       "    <tr>\n",
       "      <th>2025-08-06</th>\n",
       "      <td>213.250000</td>\n",
       "      <td>222.309998</td>\n",
       "      <td>115.169998</td>\n",
       "      <td>40.520000</td>\n",
       "      <td>196.089996</td>\n",
       "      <td>524.940002</td>\n",
       "      <td>1178.479980</td>\n",
       "      <td>179.419998</td>\n",
       "      <td>319.910004</td>\n",
       "      <td>339.739990</td>\n",
       "    </tr>\n",
       "    <tr>\n",
       "      <th>2025-08-07</th>\n",
       "      <td>219.018402</td>\n",
       "      <td>224.910004</td>\n",
       "      <td>115.050003</td>\n",
       "      <td>40.520000</td>\n",
       "      <td>196.250000</td>\n",
       "      <td>525.729980</td>\n",
       "      <td>1180.729980</td>\n",
       "      <td>183.141006</td>\n",
       "      <td>321.337006</td>\n",
       "      <td>339.820007</td>\n",
       "    </tr>\n",
       "  </tbody>\n",
       "</table>\n",
       "</div>"
      ],
      "text/plain": [
       "Ticker            AAPL        AMZN         DIS         FB       GOOGL  \\\n",
       "Date                                                                    \n",
       "2025-07-31  207.570007  234.110001  119.110001  40.567001  191.899994   \n",
       "2025-08-01  202.380005  214.750000  116.589996  40.264000  189.130005   \n",
       "2025-08-04  203.350006  211.649994  119.349998  40.549999  195.039993   \n",
       "2025-08-05  202.919998  213.750000  118.320000  40.430000  194.669998   \n",
       "2025-08-06  213.250000  222.309998  115.169998  40.520000  196.089996   \n",
       "2025-08-07  219.018402  224.910004  115.050003  40.520000  196.250000   \n",
       "\n",
       "Ticker            MSFT         NFLX        NVDA        TSLA           V  \n",
       "Date                                                                     \n",
       "2025-07-31  533.500000  1159.400024  177.869995  308.269989  345.470001  \n",
       "2025-08-01  524.109985  1158.599976  173.720001  302.630005  339.350006  \n",
       "2025-08-04  535.640015  1170.989990  180.000000  309.260010  342.149994  \n",
       "2025-08-05  527.750000  1147.869995  178.259995  308.720001  337.429993  \n",
       "2025-08-06  524.940002  1178.479980  179.419998  319.910004  339.739990  \n",
       "2025-08-07  525.729980  1180.729980  183.141006  321.337006  339.820007  "
      ]
     },
     "execution_count": 137,
     "metadata": {},
     "output_type": "execute_result"
    }
   ],
   "source": [
    "dir(yf.Tickers(tickers).download())\n",
    "\n",
    "day_performance\n"
   ]
  },
  {
   "cell_type": "code",
   "execution_count": null,
   "metadata": {},
   "outputs": [],
   "source": []
  },
  {
   "cell_type": "code",
   "execution_count": null,
   "metadata": {},
   "outputs": [
    {
     "ename": "KeyError",
     "evalue": "'date'",
     "output_type": "error",
     "traceback": [
      "\u001b[31m---------------------------------------------------------------------------\u001b[39m",
      "\u001b[31mKeyError\u001b[39m                                  Traceback (most recent call last)",
      "\u001b[32m~\\AppData\\Local\\Temp\\1\\ipykernel_9776\\274050776.py\u001b[39m in \u001b[36m?\u001b[39m\u001b[34m()\u001b[39m\n\u001b[32m      1\u001b[39m ticker_and_quantity = pd.DataFrame(history, columns=[\u001b[33m'ticker'\u001b[39m, \u001b[33m'quantity'\u001b[39m, \u001b[33m'transaction_date'\u001b[39m])\n\u001b[32m      2\u001b[39m \u001b[38;5;66;03m# ticker_and_quantity['date'] = pd.to_datetime(ticker_and_quantity['transaction_date'])\u001b[39;00m\n\u001b[32m----> \u001b[39m\u001b[32m3\u001b[39m holdings_df = ticker_and_quantity.sort_values([\u001b[33m'ticker'\u001b[39m, \u001b[33m'date'\u001b[39m])\n\u001b[32m      4\u001b[39m holdings_df[\u001b[33m'cumulative_quantity'\u001b[39m] = holdings_df.groupby(\u001b[33m'ticker'\u001b[39m)[\u001b[33m'quantity'\u001b[39m].cumsum()\n",
      "\u001b[32m~\\AppData\\Local\\Programs\\Python\\Python313\\Lib\\site-packages\\pandas\\core\\frame.py\u001b[39m in \u001b[36m?\u001b[39m\u001b[34m(self, by, axis, ascending, inplace, kind, na_position, ignore_index, key)\u001b[39m\n\u001b[32m   7175\u001b[39m                 f\"Length of ascending ({len(ascending)})\"  \u001b[38;5;66;03m# type: ignore[arg-type]\u001b[39;00m\n\u001b[32m   7176\u001b[39m                 f\" != length of by ({len(by)})\"\n\u001b[32m   7177\u001b[39m             )\n\u001b[32m   7178\u001b[39m         \u001b[38;5;28;01mif\u001b[39;00m len(by) > \u001b[32m1\u001b[39m:\n\u001b[32m-> \u001b[39m\u001b[32m7179\u001b[39m             keys = [self._get_label_or_level_values(x, axis=axis) \u001b[38;5;28;01mfor\u001b[39;00m x \u001b[38;5;28;01min\u001b[39;00m by]\n\u001b[32m   7180\u001b[39m \n\u001b[32m   7181\u001b[39m             \u001b[38;5;66;03m# need to rewrap columns in Series to apply key function\u001b[39;00m\n\u001b[32m   7182\u001b[39m             \u001b[38;5;28;01mif\u001b[39;00m key \u001b[38;5;28;01mis\u001b[39;00m \u001b[38;5;28;01mnot\u001b[39;00m \u001b[38;5;28;01mNone\u001b[39;00m:\n",
      "\u001b[32m~\\AppData\\Local\\Programs\\Python\\Python313\\Lib\\site-packages\\pandas\\core\\generic.py\u001b[39m in \u001b[36m?\u001b[39m\u001b[34m(self, key, axis)\u001b[39m\n\u001b[32m   1907\u001b[39m             values = self.xs(key, axis=other_axes[\u001b[32m0\u001b[39m])._values\n\u001b[32m   1908\u001b[39m         \u001b[38;5;28;01melif\u001b[39;00m self._is_level_reference(key, axis=axis):\n\u001b[32m   1909\u001b[39m             values = self.axes[axis].get_level_values(key)._values\n\u001b[32m   1910\u001b[39m         \u001b[38;5;28;01melse\u001b[39;00m:\n\u001b[32m-> \u001b[39m\u001b[32m1911\u001b[39m             \u001b[38;5;28;01mraise\u001b[39;00m KeyError(key)\n\u001b[32m   1912\u001b[39m \n\u001b[32m   1913\u001b[39m         \u001b[38;5;66;03m# Check for duplicates\u001b[39;00m\n\u001b[32m   1914\u001b[39m         \u001b[38;5;28;01mif\u001b[39;00m values.ndim > \u001b[32m1\u001b[39m:\n",
      "\u001b[31mKeyError\u001b[39m: 'date'"
     ]
    }
   ],
   "source": [
    "ticker_and_quantity = pd.DataFrame(history, columns=['ticker', 'quantity', 'transaction_date'])\n",
    "ticker_and_quantity['transaction_date'] = pd.to_datetime(ticker_and_quantity['transaction_date'])\n",
    "holdings_df = ticker_and_quantity.sort_values(['ticker', 'transaction_date'])\n",
    "holdings_df['cumulative_quantity'] = holdings_df.groupby('ticker')['quantity'].cumsum()"
   ]
  },
  {
   "cell_type": "code",
   "execution_count": null,
   "metadata": {},
   "outputs": [],
   "source": [
    "from datetime import datetime as dt\n",
    "\n",
    "def get_transaction_history( start_date: str = None, end_date: str = None) -> pd.DataFrame:\n",
    "    \"\"\"\n",
    "    Get transaction history from database and return as DataFrame\n",
    "    \"\"\"\n",
    "    with mysql.connector.connect(**creds) as conn:\n",
    "        query = \"\"\"\n",
    "        SELECT ticker, stock_name, stock_value, quantity, transaction_date \n",
    "        FROM stockdemo \n",
    "        \"\"\"\n",
    "        params = []\n",
    "        \n",
    "        #Use once datepicker implemented in html\n",
    "        if start_date:\n",
    "            query += \" AND transaction_date >= %s\"\n",
    "            params.append(start_date)\n",
    "        if end_date:\n",
    "            query += \" AND transaction_date <= %s\"\n",
    "            params.append(end_date)\n",
    "            \n",
    "        query += \" ORDER BY transaction_date ASC\"\n",
    "        \n",
    "        df = pd.read_sql(query, conn, params=params)\n",
    "        df['transaction_date'] = pd.to_datetime(df['transaction_date'])\n",
    "        return df\n",
    "        \n",
    "def calculate_cumulative_holdings(transactions_df):\n",
    "    \"\"\"\n",
    "    Calculate cumulative holdings for each ticker over time\n",
    "    \"\"\"\n",
    "    if transactions_df.empty:\n",
    "        return pd.DataFrame()\n",
    "    \n",
    "    # Make sure transaction_date is datetime\n",
    "    # transactions_df = transactions_df.copy()\n",
    "    transactions_df['transaction_date'] = pd.to_datetime(transactions_df['transaction_date'])\n",
    "    \n",
    "    # Aggregate transactions by date and ticker (in case of multiple transactions on same day)\n",
    "    daily_transactions = (transactions_df\n",
    "                         .groupby(['transaction_date', 'ticker'])['quantity']\n",
    "                         .sum()\n",
    "                         .reset_index())\n",
    "    \n",
    "    # Create date range from first transaction to today\n",
    "    start_date = daily_transactions['transaction_date'].min().date()\n",
    "    end_date = dt.now().date()\n",
    "    date_range = pd.date_range(start=\"2025-07-31\", end=end_date, freq='D')\n",
    "    \n",
    "    # Get unique tickers\n",
    "    tickers = daily_transactions['ticker'].unique()\n",
    "    \n",
    "    # Initialize result dataframe\n",
    "    result = pd.DataFrame(index=date_range, columns=tickers).fillna(0.0)\n",
    "    \n",
    "    # For each ticker, calculate cumulative holdings\n",
    "    for ticker in tickers:\n",
    "        ticker_transactions = daily_transactions[daily_transactions['ticker'] == ticker].copy()\n",
    "        ticker_transactions.set_index('transaction_date', inplace=True)\n",
    "        \n",
    "        # Reindex to match our date range\n",
    "        ticker_series = ticker_transactions['quantity'].reindex(date_range, fill_value=0.0)\n",
    "        \n",
    "        # Calculate cumulative sum\n",
    "        result[ticker] = ticker_series.cumsum()\n",
    "    \n",
    "    return result"
   ]
  },
  {
   "cell_type": "code",
   "execution_count": 138,
   "metadata": {},
   "outputs": [
    {
     "name": "stderr",
     "output_type": "stream",
     "text": [
      "C:\\Users\\Administrator\\AppData\\Local\\Temp\\1\\ipykernel_9776\\2432598290.py:24: UserWarning: pandas only supports SQLAlchemy connectable (engine/connection) or database string URI or sqlite3 DBAPI2 connection. Other DBAPI2 objects are not tested. Please consider using SQLAlchemy.\n",
      "  df = pd.read_sql(query, conn, params=params)\n",
      "C:\\Users\\Administrator\\AppData\\Local\\Temp\\1\\ipykernel_9776\\2432598290.py:54: FutureWarning: Downcasting object dtype arrays on .fillna, .ffill, .bfill is deprecated and will change in a future version. Call result.infer_objects(copy=False) instead. To opt-in to the future behavior, set `pd.set_option('future.no_silent_downcasting', True)`\n",
      "  result = pd.DataFrame(index=date_range, columns=tickers).fillna(0.0)\n"
     ]
    }
   ],
   "source": [
    "df = get_transaction_history()\n",
    "cumulative_holdings = calculate_cumulative_holdings(df)"
   ]
  },
  {
   "cell_type": "code",
   "execution_count": 107,
   "metadata": {},
   "outputs": [
    {
     "name": "stderr",
     "output_type": "stream",
     "text": [
      "Matplotlib is building the font cache; this may take a moment.\n"
     ]
    },
    {
     "ename": "KeyError",
     "evalue": "'ticker'",
     "output_type": "error",
     "traceback": [
      "\u001b[31m---------------------------------------------------------------------------\u001b[39m",
      "\u001b[31mKeyError\u001b[39m                                  Traceback (most recent call last)",
      "\u001b[36mFile \u001b[39m\u001b[32m~\\AppData\\Local\\Programs\\Python\\Python313\\Lib\\site-packages\\pandas\\core\\indexes\\base.py:3812\u001b[39m, in \u001b[36mIndex.get_loc\u001b[39m\u001b[34m(self, key)\u001b[39m\n\u001b[32m   3811\u001b[39m \u001b[38;5;28;01mtry\u001b[39;00m:\n\u001b[32m-> \u001b[39m\u001b[32m3812\u001b[39m     \u001b[38;5;28;01mreturn\u001b[39;00m \u001b[38;5;28;43mself\u001b[39;49m\u001b[43m.\u001b[49m\u001b[43m_engine\u001b[49m\u001b[43m.\u001b[49m\u001b[43mget_loc\u001b[49m\u001b[43m(\u001b[49m\u001b[43mcasted_key\u001b[49m\u001b[43m)\u001b[49m\n\u001b[32m   3813\u001b[39m \u001b[38;5;28;01mexcept\u001b[39;00m \u001b[38;5;167;01mKeyError\u001b[39;00m \u001b[38;5;28;01mas\u001b[39;00m err:\n",
      "\u001b[36mFile \u001b[39m\u001b[32mpandas/_libs/index.pyx:167\u001b[39m, in \u001b[36mpandas._libs.index.IndexEngine.get_loc\u001b[39m\u001b[34m()\u001b[39m\n",
      "\u001b[36mFile \u001b[39m\u001b[32mpandas/_libs/index.pyx:196\u001b[39m, in \u001b[36mpandas._libs.index.IndexEngine.get_loc\u001b[39m\u001b[34m()\u001b[39m\n",
      "\u001b[36mFile \u001b[39m\u001b[32mpandas/_libs/hashtable_class_helper.pxi:7088\u001b[39m, in \u001b[36mpandas._libs.hashtable.PyObjectHashTable.get_item\u001b[39m\u001b[34m()\u001b[39m\n",
      "\u001b[36mFile \u001b[39m\u001b[32mpandas/_libs/hashtable_class_helper.pxi:7096\u001b[39m, in \u001b[36mpandas._libs.hashtable.PyObjectHashTable.get_item\u001b[39m\u001b[34m()\u001b[39m\n",
      "\u001b[31mKeyError\u001b[39m: 'ticker'",
      "\nThe above exception was the direct cause of the following exception:\n",
      "\u001b[31mKeyError\u001b[39m                                  Traceback (most recent call last)",
      "\u001b[36mCell\u001b[39m\u001b[36m \u001b[39m\u001b[32mIn[107]\u001b[39m\u001b[32m, line 23\u001b[39m\n\u001b[32m     20\u001b[39m     plt.grid()\n\u001b[32m     21\u001b[39m     plt.show()\n\u001b[32m---> \u001b[39m\u001b[32m23\u001b[39m \u001b[43mplot_holdings\u001b[49m\u001b[43m(\u001b[49m\u001b[43mcumulative_holdings\u001b[49m\u001b[43m)\u001b[49m\n",
      "\u001b[36mCell\u001b[39m\u001b[36m \u001b[39m\u001b[32mIn[107]\u001b[39m\u001b[32m, line 12\u001b[39m, in \u001b[36mplot_holdings\u001b[39m\u001b[34m(holdings_df)\u001b[39m\n\u001b[32m      8\u001b[39m     \u001b[38;5;28;01mreturn\u001b[39;00m\n\u001b[32m     10\u001b[39m plt.figure(figsize=(\u001b[32m14\u001b[39m, \u001b[32m8\u001b[39m))\n\u001b[32m---> \u001b[39m\u001b[32m12\u001b[39m \u001b[38;5;28;01mfor\u001b[39;00m ticker \u001b[38;5;129;01min\u001b[39;00m \u001b[43mholdings_df\u001b[49m\u001b[43m[\u001b[49m\u001b[33;43m'\u001b[39;49m\u001b[33;43mticker\u001b[39;49m\u001b[33;43m'\u001b[39;49m\u001b[43m]\u001b[49m.unique():\n\u001b[32m     13\u001b[39m     ticker_data = holdings_df[holdings_df[\u001b[33m'\u001b[39m\u001b[33mticker\u001b[39m\u001b[33m'\u001b[39m] == ticker]\n\u001b[32m     14\u001b[39m     plt.plot(ticker_data[\u001b[33m'\u001b[39m\u001b[33mtransaction_date\u001b[39m\u001b[33m'\u001b[39m], ticker_data[\u001b[33m'\u001b[39m\u001b[33mcumulative_quantity\u001b[39m\u001b[33m'\u001b[39m], label=ticker)\n",
      "\u001b[36mFile \u001b[39m\u001b[32m~\\AppData\\Local\\Programs\\Python\\Python313\\Lib\\site-packages\\pandas\\core\\frame.py:4107\u001b[39m, in \u001b[36mDataFrame.__getitem__\u001b[39m\u001b[34m(self, key)\u001b[39m\n\u001b[32m   4105\u001b[39m \u001b[38;5;28;01mif\u001b[39;00m \u001b[38;5;28mself\u001b[39m.columns.nlevels > \u001b[32m1\u001b[39m:\n\u001b[32m   4106\u001b[39m     \u001b[38;5;28;01mreturn\u001b[39;00m \u001b[38;5;28mself\u001b[39m._getitem_multilevel(key)\n\u001b[32m-> \u001b[39m\u001b[32m4107\u001b[39m indexer = \u001b[38;5;28;43mself\u001b[39;49m\u001b[43m.\u001b[49m\u001b[43mcolumns\u001b[49m\u001b[43m.\u001b[49m\u001b[43mget_loc\u001b[49m\u001b[43m(\u001b[49m\u001b[43mkey\u001b[49m\u001b[43m)\u001b[49m\n\u001b[32m   4108\u001b[39m \u001b[38;5;28;01mif\u001b[39;00m is_integer(indexer):\n\u001b[32m   4109\u001b[39m     indexer = [indexer]\n",
      "\u001b[36mFile \u001b[39m\u001b[32m~\\AppData\\Local\\Programs\\Python\\Python313\\Lib\\site-packages\\pandas\\core\\indexes\\base.py:3819\u001b[39m, in \u001b[36mIndex.get_loc\u001b[39m\u001b[34m(self, key)\u001b[39m\n\u001b[32m   3814\u001b[39m     \u001b[38;5;28;01mif\u001b[39;00m \u001b[38;5;28misinstance\u001b[39m(casted_key, \u001b[38;5;28mslice\u001b[39m) \u001b[38;5;129;01mor\u001b[39;00m (\n\u001b[32m   3815\u001b[39m         \u001b[38;5;28misinstance\u001b[39m(casted_key, abc.Iterable)\n\u001b[32m   3816\u001b[39m         \u001b[38;5;129;01mand\u001b[39;00m \u001b[38;5;28many\u001b[39m(\u001b[38;5;28misinstance\u001b[39m(x, \u001b[38;5;28mslice\u001b[39m) \u001b[38;5;28;01mfor\u001b[39;00m x \u001b[38;5;129;01min\u001b[39;00m casted_key)\n\u001b[32m   3817\u001b[39m     ):\n\u001b[32m   3818\u001b[39m         \u001b[38;5;28;01mraise\u001b[39;00m InvalidIndexError(key)\n\u001b[32m-> \u001b[39m\u001b[32m3819\u001b[39m     \u001b[38;5;28;01mraise\u001b[39;00m \u001b[38;5;167;01mKeyError\u001b[39;00m(key) \u001b[38;5;28;01mfrom\u001b[39;00m\u001b[38;5;250m \u001b[39m\u001b[34;01merr\u001b[39;00m\n\u001b[32m   3820\u001b[39m \u001b[38;5;28;01mexcept\u001b[39;00m \u001b[38;5;167;01mTypeError\u001b[39;00m:\n\u001b[32m   3821\u001b[39m     \u001b[38;5;66;03m# If we have a listlike key, _check_indexing_error will raise\u001b[39;00m\n\u001b[32m   3822\u001b[39m     \u001b[38;5;66;03m#  InvalidIndexError. Otherwise we fall through and re-raise\u001b[39;00m\n\u001b[32m   3823\u001b[39m     \u001b[38;5;66;03m#  the TypeError.\u001b[39;00m\n\u001b[32m   3824\u001b[39m     \u001b[38;5;28mself\u001b[39m._check_indexing_error(key)\n",
      "\u001b[31mKeyError\u001b[39m: 'ticker'"
     ]
    },
    {
     "data": {
      "text/plain": [
       "<Figure size 1400x800 with 0 Axes>"
      ]
     },
     "metadata": {},
     "output_type": "display_data"
    }
   ],
   "source": [
    "import matplotlib.pyplot as plt\n",
    "def plot_holdings(holdings_df):\n",
    "    \"\"\"\n",
    "    Plot cumulative holdings for each ticker over time\n",
    "    \"\"\"\n",
    "    if holdings_df.empty:\n",
    "        print(\"No holdings data to plot.\")\n",
    "        return\n",
    "    \n",
    "    plt.figure(figsize=(14, 8))\n",
    "    \n",
    "    for ticker in holdings_df['ticker'].unique():\n",
    "        ticker_data = holdings_df[holdings_df['ticker'] == ticker]\n",
    "        plt.plot(ticker_data['transaction_date'], ticker_data['cumulative_quantity'], label=ticker)\n",
    "    \n",
    "    plt.title('Cumulative Holdings Over Time')\n",
    "    plt.xlabel('Date')\n",
    "    plt.ylabel('Cumulative Quantity')\n",
    "    plt.legend()\n",
    "    plt.grid()\n",
    "    plt.show()\n",
    "    \n",
    "plot_holdings(cumulative_holdings)"
   ]
  },
  {
   "cell_type": "code",
   "execution_count": 139,
   "metadata": {},
   "outputs": [
    {
     "data": {
      "application/vnd.microsoft.datawrangler.viewer.v0+json": {
       "columns": [
        {
         "name": "index",
         "rawType": "datetime64[ns]",
         "type": "datetime"
        },
        {
         "name": "AAPL",
         "rawType": "float64",
         "type": "float"
        },
        {
         "name": "AMZN",
         "rawType": "float64",
         "type": "float"
        },
        {
         "name": "DIS",
         "rawType": "float64",
         "type": "float"
        },
        {
         "name": "FB",
         "rawType": "float64",
         "type": "float"
        },
        {
         "name": "GOOGL",
         "rawType": "float64",
         "type": "float"
        },
        {
         "name": "MSFT",
         "rawType": "float64",
         "type": "float"
        },
        {
         "name": "NFLX",
         "rawType": "float64",
         "type": "float"
        },
        {
         "name": "NVDA",
         "rawType": "float64",
         "type": "float"
        },
        {
         "name": "TSLA",
         "rawType": "float64",
         "type": "float"
        },
        {
         "name": "V",
         "rawType": "float64",
         "type": "float"
        },
        {
         "name": "AAP",
         "rawType": "float64",
         "type": "float"
        },
        {
         "name": "AB",
         "rawType": "float64",
         "type": "float"
        },
        {
         "name": "BSAC",
         "rawType": "float64",
         "type": "float"
        },
        {
         "name": "CAAP",
         "rawType": "float64",
         "type": "float"
        }
       ],
       "ref": "8432a43c-8ab0-4db1-9f1a-3a9e183f3dc4",
       "rows": [
        [
         "2025-07-31 00:00:00",
         "0.0",
         "0.0",
         "0.0",
         "0.0",
         "0.0",
         "0.0",
         "0.0",
         "0.0",
         "0.0",
         "0.0",
         "0.0",
         "0.0",
         "0.0",
         "0.0"
        ],
        [
         "2025-08-01 00:00:00",
         "0.0",
         "0.0",
         "0.0",
         "0.0",
         "0.0",
         "0.0",
         "0.0",
         "0.0",
         "0.0",
         "0.0",
         "0.0",
         "0.0",
         "0.0",
         "0.0"
        ],
        [
         "2025-08-02 00:00:00",
         "0.0",
         "0.0",
         "0.0",
         "0.0",
         "0.0",
         "0.0",
         "0.0",
         "0.0",
         "0.0",
         "0.0",
         "0.0",
         "0.0",
         "0.0",
         "0.0"
        ],
        [
         "2025-08-03 00:00:00",
         "0.0",
         "0.0",
         "0.0",
         "0.0",
         "0.0",
         "0.0",
         "0.0",
         "0.0",
         "0.0",
         "0.0",
         "0.0",
         "0.0",
         "0.0",
         "0.0"
        ],
        [
         "2025-08-04 00:00:00",
         "0.0",
         "0.0",
         "0.0",
         "0.0",
         "0.0",
         "0.0",
         "0.0",
         "0.0",
         "0.0",
         "0.0",
         "0.0",
         "0.0",
         "0.0",
         "0.0"
        ],
        [
         "2025-08-05 00:00:00",
         "0.0",
         "13.0",
         "27.25",
         "4.0",
         "13.3",
         "0.0",
         "49.0",
         "2.6",
         "55.0",
         "45.0",
         "0.0",
         "0.0",
         "0.0",
         "0.0"
        ],
        [
         "2025-08-06 00:00:00",
         "0.0",
         "0.0",
         "27.25",
         "4.0",
         "12.3",
         "0.0",
         "42.0",
         "2.6",
         "54.0",
         "45.0",
         "2.0",
         "3.0",
         "4.4",
         "7.9"
        ],
        [
         "2025-08-07 00:00:00",
         "21.0",
         "12.0",
         "32.25",
         "9.0",
         "27.3",
         "1.0",
         "82.0",
         "82.6",
         "63.0",
         "46.0",
         "2.0",
         "3.0",
         "4.4",
         "7.9"
        ]
       ],
       "shape": {
        "columns": 14,
        "rows": 8
       }
      },
      "text/html": [
       "<div>\n",
       "<style scoped>\n",
       "    .dataframe tbody tr th:only-of-type {\n",
       "        vertical-align: middle;\n",
       "    }\n",
       "\n",
       "    .dataframe tbody tr th {\n",
       "        vertical-align: top;\n",
       "    }\n",
       "\n",
       "    .dataframe thead th {\n",
       "        text-align: right;\n",
       "    }\n",
       "</style>\n",
       "<table border=\"1\" class=\"dataframe\">\n",
       "  <thead>\n",
       "    <tr style=\"text-align: right;\">\n",
       "      <th></th>\n",
       "      <th>AAPL</th>\n",
       "      <th>AMZN</th>\n",
       "      <th>DIS</th>\n",
       "      <th>FB</th>\n",
       "      <th>GOOGL</th>\n",
       "      <th>MSFT</th>\n",
       "      <th>NFLX</th>\n",
       "      <th>NVDA</th>\n",
       "      <th>TSLA</th>\n",
       "      <th>V</th>\n",
       "      <th>AAP</th>\n",
       "      <th>AB</th>\n",
       "      <th>BSAC</th>\n",
       "      <th>CAAP</th>\n",
       "    </tr>\n",
       "  </thead>\n",
       "  <tbody>\n",
       "    <tr>\n",
       "      <th>2025-07-31</th>\n",
       "      <td>0.0</td>\n",
       "      <td>0.0</td>\n",
       "      <td>0.00</td>\n",
       "      <td>0.0</td>\n",
       "      <td>0.0</td>\n",
       "      <td>0.0</td>\n",
       "      <td>0.0</td>\n",
       "      <td>0.0</td>\n",
       "      <td>0.0</td>\n",
       "      <td>0.0</td>\n",
       "      <td>0.0</td>\n",
       "      <td>0.0</td>\n",
       "      <td>0.0</td>\n",
       "      <td>0.0</td>\n",
       "    </tr>\n",
       "    <tr>\n",
       "      <th>2025-08-01</th>\n",
       "      <td>0.0</td>\n",
       "      <td>0.0</td>\n",
       "      <td>0.00</td>\n",
       "      <td>0.0</td>\n",
       "      <td>0.0</td>\n",
       "      <td>0.0</td>\n",
       "      <td>0.0</td>\n",
       "      <td>0.0</td>\n",
       "      <td>0.0</td>\n",
       "      <td>0.0</td>\n",
       "      <td>0.0</td>\n",
       "      <td>0.0</td>\n",
       "      <td>0.0</td>\n",
       "      <td>0.0</td>\n",
       "    </tr>\n",
       "    <tr>\n",
       "      <th>2025-08-02</th>\n",
       "      <td>0.0</td>\n",
       "      <td>0.0</td>\n",
       "      <td>0.00</td>\n",
       "      <td>0.0</td>\n",
       "      <td>0.0</td>\n",
       "      <td>0.0</td>\n",
       "      <td>0.0</td>\n",
       "      <td>0.0</td>\n",
       "      <td>0.0</td>\n",
       "      <td>0.0</td>\n",
       "      <td>0.0</td>\n",
       "      <td>0.0</td>\n",
       "      <td>0.0</td>\n",
       "      <td>0.0</td>\n",
       "    </tr>\n",
       "    <tr>\n",
       "      <th>2025-08-03</th>\n",
       "      <td>0.0</td>\n",
       "      <td>0.0</td>\n",
       "      <td>0.00</td>\n",
       "      <td>0.0</td>\n",
       "      <td>0.0</td>\n",
       "      <td>0.0</td>\n",
       "      <td>0.0</td>\n",
       "      <td>0.0</td>\n",
       "      <td>0.0</td>\n",
       "      <td>0.0</td>\n",
       "      <td>0.0</td>\n",
       "      <td>0.0</td>\n",
       "      <td>0.0</td>\n",
       "      <td>0.0</td>\n",
       "    </tr>\n",
       "    <tr>\n",
       "      <th>2025-08-04</th>\n",
       "      <td>0.0</td>\n",
       "      <td>0.0</td>\n",
       "      <td>0.00</td>\n",
       "      <td>0.0</td>\n",
       "      <td>0.0</td>\n",
       "      <td>0.0</td>\n",
       "      <td>0.0</td>\n",
       "      <td>0.0</td>\n",
       "      <td>0.0</td>\n",
       "      <td>0.0</td>\n",
       "      <td>0.0</td>\n",
       "      <td>0.0</td>\n",
       "      <td>0.0</td>\n",
       "      <td>0.0</td>\n",
       "    </tr>\n",
       "    <tr>\n",
       "      <th>2025-08-05</th>\n",
       "      <td>0.0</td>\n",
       "      <td>13.0</td>\n",
       "      <td>27.25</td>\n",
       "      <td>4.0</td>\n",
       "      <td>13.3</td>\n",
       "      <td>0.0</td>\n",
       "      <td>49.0</td>\n",
       "      <td>2.6</td>\n",
       "      <td>55.0</td>\n",
       "      <td>45.0</td>\n",
       "      <td>0.0</td>\n",
       "      <td>0.0</td>\n",
       "      <td>0.0</td>\n",
       "      <td>0.0</td>\n",
       "    </tr>\n",
       "    <tr>\n",
       "      <th>2025-08-06</th>\n",
       "      <td>0.0</td>\n",
       "      <td>0.0</td>\n",
       "      <td>27.25</td>\n",
       "      <td>4.0</td>\n",
       "      <td>12.3</td>\n",
       "      <td>0.0</td>\n",
       "      <td>42.0</td>\n",
       "      <td>2.6</td>\n",
       "      <td>54.0</td>\n",
       "      <td>45.0</td>\n",
       "      <td>2.0</td>\n",
       "      <td>3.0</td>\n",
       "      <td>4.4</td>\n",
       "      <td>7.9</td>\n",
       "    </tr>\n",
       "    <tr>\n",
       "      <th>2025-08-07</th>\n",
       "      <td>21.0</td>\n",
       "      <td>12.0</td>\n",
       "      <td>32.25</td>\n",
       "      <td>9.0</td>\n",
       "      <td>27.3</td>\n",
       "      <td>1.0</td>\n",
       "      <td>82.0</td>\n",
       "      <td>82.6</td>\n",
       "      <td>63.0</td>\n",
       "      <td>46.0</td>\n",
       "      <td>2.0</td>\n",
       "      <td>3.0</td>\n",
       "      <td>4.4</td>\n",
       "      <td>7.9</td>\n",
       "    </tr>\n",
       "  </tbody>\n",
       "</table>\n",
       "</div>"
      ],
      "text/plain": [
       "            AAPL  AMZN    DIS   FB  GOOGL  MSFT  NFLX  NVDA  TSLA     V  AAP  \\\n",
       "2025-07-31   0.0   0.0   0.00  0.0    0.0   0.0   0.0   0.0   0.0   0.0  0.0   \n",
       "2025-08-01   0.0   0.0   0.00  0.0    0.0   0.0   0.0   0.0   0.0   0.0  0.0   \n",
       "2025-08-02   0.0   0.0   0.00  0.0    0.0   0.0   0.0   0.0   0.0   0.0  0.0   \n",
       "2025-08-03   0.0   0.0   0.00  0.0    0.0   0.0   0.0   0.0   0.0   0.0  0.0   \n",
       "2025-08-04   0.0   0.0   0.00  0.0    0.0   0.0   0.0   0.0   0.0   0.0  0.0   \n",
       "2025-08-05   0.0  13.0  27.25  4.0   13.3   0.0  49.0   2.6  55.0  45.0  0.0   \n",
       "2025-08-06   0.0   0.0  27.25  4.0   12.3   0.0  42.0   2.6  54.0  45.0  2.0   \n",
       "2025-08-07  21.0  12.0  32.25  9.0   27.3   1.0  82.0  82.6  63.0  46.0  2.0   \n",
       "\n",
       "             AB  BSAC  CAAP  \n",
       "2025-07-31  0.0   0.0   0.0  \n",
       "2025-08-01  0.0   0.0   0.0  \n",
       "2025-08-02  0.0   0.0   0.0  \n",
       "2025-08-03  0.0   0.0   0.0  \n",
       "2025-08-04  0.0   0.0   0.0  \n",
       "2025-08-05  0.0   0.0   0.0  \n",
       "2025-08-06  3.0   4.4   7.9  \n",
       "2025-08-07  3.0   4.4   7.9  "
      ]
     },
     "execution_count": 139,
     "metadata": {},
     "output_type": "execute_result"
    }
   ],
   "source": [
    "cumulative_holdings "
   ]
  },
  {
   "cell_type": "code",
   "execution_count": 141,
   "metadata": {},
   "outputs": [],
   "source": [
    "cumulative_valuation = cumulative_holdings.multiply(day_performance, axis=0,fill_value=1).sum(axis=1)"
   ]
  },
  {
   "cell_type": "code",
   "execution_count": 134,
   "metadata": {},
   "outputs": [
    {
     "data": {
      "application/vnd.microsoft.datawrangler.viewer.v0+json": {
       "columns": [
        {
         "name": "Date",
         "rawType": "datetime64[ns]",
         "type": "datetime"
        },
        {
         "name": "AAPL",
         "rawType": "float64",
         "type": "float"
        },
        {
         "name": "AMZN",
         "rawType": "float64",
         "type": "float"
        },
        {
         "name": "DIS",
         "rawType": "float64",
         "type": "float"
        },
        {
         "name": "FB",
         "rawType": "float64",
         "type": "float"
        },
        {
         "name": "GOOGL",
         "rawType": "float64",
         "type": "float"
        },
        {
         "name": "MSFT",
         "rawType": "float64",
         "type": "float"
        },
        {
         "name": "NFLX",
         "rawType": "float64",
         "type": "float"
        },
        {
         "name": "NVDA",
         "rawType": "float64",
         "type": "float"
        },
        {
         "name": "TSLA",
         "rawType": "float64",
         "type": "float"
        },
        {
         "name": "V",
         "rawType": "float64",
         "type": "float"
        }
       ],
       "ref": "e5531419-10e5-4070-a1b6-09f0c613e8e7",
       "rows": [
        [
         "2025-07-31 00:00:00",
         "207.57000732421875",
         "234.11000061035156",
         "119.11000061035156",
         "40.56700134277344",
         "191.89999389648438",
         "533.5",
         "1159.4000244140625",
         "177.8699951171875",
         "308.2699890136719",
         "345.4700012207031"
        ],
        [
         "2025-08-01 00:00:00",
         "202.3800048828125",
         "214.75",
         "116.58999633789062",
         "40.263999938964844",
         "189.1300048828125",
         "524.1099853515625",
         "1158.5999755859375",
         "173.72000122070312",
         "302.6300048828125",
         "339.3500061035156"
        ],
        [
         "2025-08-04 00:00:00",
         "203.35000610351562",
         "211.64999389648438",
         "119.3499984741211",
         "40.54999923706055",
         "195.0399932861328",
         "535.6400146484375",
         "1170.989990234375",
         "180.0",
         "309.260009765625",
         "342.1499938964844"
        ],
        [
         "2025-08-05 00:00:00",
         "202.9199981689453",
         "213.75",
         "118.31999969482422",
         "40.43000030517578",
         "194.6699981689453",
         "527.75",
         "1147.8699951171875",
         "178.25999450683594",
         "308.7200012207031",
         "337.42999267578125"
        ],
        [
         "2025-08-06 00:00:00",
         "213.25",
         "222.30999755859375",
         "115.16999816894531",
         "40.52000045776367",
         "196.08999633789062",
         "524.9400024414062",
         "1178.47998046875",
         "179.4199981689453",
         "319.9100036621094",
         "339.739990234375"
        ]
       ],
       "shape": {
        "columns": 10,
        "rows": 5
       }
      },
      "text/html": [
       "<div>\n",
       "<style scoped>\n",
       "    .dataframe tbody tr th:only-of-type {\n",
       "        vertical-align: middle;\n",
       "    }\n",
       "\n",
       "    .dataframe tbody tr th {\n",
       "        vertical-align: top;\n",
       "    }\n",
       "\n",
       "    .dataframe thead th {\n",
       "        text-align: right;\n",
       "    }\n",
       "</style>\n",
       "<table border=\"1\" class=\"dataframe\">\n",
       "  <thead>\n",
       "    <tr style=\"text-align: right;\">\n",
       "      <th>Ticker</th>\n",
       "      <th>AAPL</th>\n",
       "      <th>AMZN</th>\n",
       "      <th>DIS</th>\n",
       "      <th>FB</th>\n",
       "      <th>GOOGL</th>\n",
       "      <th>MSFT</th>\n",
       "      <th>NFLX</th>\n",
       "      <th>NVDA</th>\n",
       "      <th>TSLA</th>\n",
       "      <th>V</th>\n",
       "    </tr>\n",
       "    <tr>\n",
       "      <th>Date</th>\n",
       "      <th></th>\n",
       "      <th></th>\n",
       "      <th></th>\n",
       "      <th></th>\n",
       "      <th></th>\n",
       "      <th></th>\n",
       "      <th></th>\n",
       "      <th></th>\n",
       "      <th></th>\n",
       "      <th></th>\n",
       "    </tr>\n",
       "  </thead>\n",
       "  <tbody>\n",
       "    <tr>\n",
       "      <th>2025-07-31</th>\n",
       "      <td>207.570007</td>\n",
       "      <td>234.110001</td>\n",
       "      <td>119.110001</td>\n",
       "      <td>40.567001</td>\n",
       "      <td>191.899994</td>\n",
       "      <td>533.500000</td>\n",
       "      <td>1159.400024</td>\n",
       "      <td>177.869995</td>\n",
       "      <td>308.269989</td>\n",
       "      <td>345.470001</td>\n",
       "    </tr>\n",
       "    <tr>\n",
       "      <th>2025-08-01</th>\n",
       "      <td>202.380005</td>\n",
       "      <td>214.750000</td>\n",
       "      <td>116.589996</td>\n",
       "      <td>40.264000</td>\n",
       "      <td>189.130005</td>\n",
       "      <td>524.109985</td>\n",
       "      <td>1158.599976</td>\n",
       "      <td>173.720001</td>\n",
       "      <td>302.630005</td>\n",
       "      <td>339.350006</td>\n",
       "    </tr>\n",
       "    <tr>\n",
       "      <th>2025-08-04</th>\n",
       "      <td>203.350006</td>\n",
       "      <td>211.649994</td>\n",
       "      <td>119.349998</td>\n",
       "      <td>40.549999</td>\n",
       "      <td>195.039993</td>\n",
       "      <td>535.640015</td>\n",
       "      <td>1170.989990</td>\n",
       "      <td>180.000000</td>\n",
       "      <td>309.260010</td>\n",
       "      <td>342.149994</td>\n",
       "    </tr>\n",
       "    <tr>\n",
       "      <th>2025-08-05</th>\n",
       "      <td>202.919998</td>\n",
       "      <td>213.750000</td>\n",
       "      <td>118.320000</td>\n",
       "      <td>40.430000</td>\n",
       "      <td>194.669998</td>\n",
       "      <td>527.750000</td>\n",
       "      <td>1147.869995</td>\n",
       "      <td>178.259995</td>\n",
       "      <td>308.720001</td>\n",
       "      <td>337.429993</td>\n",
       "    </tr>\n",
       "    <tr>\n",
       "      <th>2025-08-06</th>\n",
       "      <td>213.250000</td>\n",
       "      <td>222.309998</td>\n",
       "      <td>115.169998</td>\n",
       "      <td>40.520000</td>\n",
       "      <td>196.089996</td>\n",
       "      <td>524.940002</td>\n",
       "      <td>1178.479980</td>\n",
       "      <td>179.419998</td>\n",
       "      <td>319.910004</td>\n",
       "      <td>339.739990</td>\n",
       "    </tr>\n",
       "  </tbody>\n",
       "</table>\n",
       "</div>"
      ],
      "text/plain": [
       "Ticker            AAPL        AMZN         DIS         FB       GOOGL  \\\n",
       "Date                                                                    \n",
       "2025-07-31  207.570007  234.110001  119.110001  40.567001  191.899994   \n",
       "2025-08-01  202.380005  214.750000  116.589996  40.264000  189.130005   \n",
       "2025-08-04  203.350006  211.649994  119.349998  40.549999  195.039993   \n",
       "2025-08-05  202.919998  213.750000  118.320000  40.430000  194.669998   \n",
       "2025-08-06  213.250000  222.309998  115.169998  40.520000  196.089996   \n",
       "\n",
       "Ticker            MSFT         NFLX        NVDA        TSLA           V  \n",
       "Date                                                                     \n",
       "2025-07-31  533.500000  1159.400024  177.869995  308.269989  345.470001  \n",
       "2025-08-01  524.109985  1158.599976  173.720001  302.630005  339.350006  \n",
       "2025-08-04  535.640015  1170.989990  180.000000  309.260010  342.149994  \n",
       "2025-08-05  527.750000  1147.869995  178.259995  308.720001  337.429993  \n",
       "2025-08-06  524.940002  1178.479980  179.419998  319.910004  339.739990  "
      ]
     },
     "execution_count": 134,
     "metadata": {},
     "output_type": "execute_result"
    }
   ],
   "source": [
    "day_performance"
   ]
  },
  {
   "cell_type": "code",
   "execution_count": 142,
   "metadata": {},
   "outputs": [
    {
     "data": {
      "application/vnd.microsoft.datawrangler.viewer.v0+json": {
       "columns": [
        {
         "name": "index",
         "rawType": "datetime64[ns]",
         "type": "datetime"
        },
        {
         "name": "0",
         "rawType": "float64",
         "type": "float"
        }
       ],
       "ref": "14e82945-ef7d-4f84-b60f-83da9d68e2a6",
       "rows": [
        [
         "2025-07-31 00:00:00",
         "0.0"
        ],
        [
         "2025-08-01 00:00:00",
         "0.0"
        ],
        [
         "2025-08-02 00:00:00",
         "0.0"
        ],
        [
         "2025-08-03 00:00:00",
         "0.0"
        ],
        [
         "2025-08-04 00:00:00",
         "0.0"
        ],
        [
         "2025-08-05 00:00:00",
         "97626.85645256043"
        ],
        [
         "2025-08-06 00:00:00",
         "88255.7603401184"
        ],
        [
         "2025-08-07 00:00:00",
         "165097.26129455568"
        ]
       ],
       "shape": {
        "columns": 1,
        "rows": 8
       }
      },
      "text/plain": [
       "2025-07-31         0.000000\n",
       "2025-08-01         0.000000\n",
       "2025-08-02         0.000000\n",
       "2025-08-03         0.000000\n",
       "2025-08-04         0.000000\n",
       "2025-08-05     97626.856453\n",
       "2025-08-06     88255.760340\n",
       "2025-08-07    165097.261295\n",
       "dtype: float64"
      ]
     },
     "execution_count": 142,
     "metadata": {},
     "output_type": "execute_result"
    }
   ],
   "source": [
    "cumulative_valuation"
   ]
  },
  {
   "cell_type": "code",
   "execution_count": 83,
   "metadata": {},
   "outputs": [],
   "source": [
    "with mysql.connector.connect(**creds) as stock_db:\n",
    "    cursor = stock_db.cursor(dictionary=True)\n",
    "    cursor.execute(\"select ticker, quantity, transaction_date from stockdemo order by transaction_date desc\")\n",
    "    history = cursor.fetchall()"
   ]
  },
  {
   "cell_type": "code",
   "execution_count": null,
   "metadata": {},
   "outputs": [],
   "source": [
    "ticker_and_quantity = pd.DataFrame(history, columns=['ticker', 'quantity', 'transaction_date'])\n",
    "ticker_and_quantity['transaction_date'] = pd.to_datetime(ticker_and_quantity['transaction_date'])\n",
    "ticker_and_quantity= ticker_and_quantity.set_index('transaction_date')\n",
    "ticker_and_quantity = ticker_and_quantity.sort_index()\n",
    "ticker_and_quantity['quantity'] = ticker_and_quantity[ticker_and_quantity.index].groupby(['ticker'])['quantity'].cumsum()\n",
    "# ticker_and_quantity['quantity'] = ticker_and_quantity['quantity'].astype(float)\n",
    "# ticker_and_quantity = ticker_and_quantity.set_index('ticker')"
   ]
  },
  {
   "cell_type": "code",
   "execution_count": 50,
   "metadata": {},
   "outputs": [],
   "source": [
    "#Input fake entries to stock database\n",
    "with mysql.connector.connect(**creds) as stock_db:\n",
    "    cursor = stock_db.cursor()\n",
    "    #Create dummy entries for teh portfolio\n",
    "    stockinfo = [(\"AAPL\", \"Apple\", \"150.20\", \"21\"),\n",
    "                    (\"GOOGL\", \"Alphabet\", \"280.50\", \"15\"),\n",
    "                    (\"AMZN\", \"Amazon\", \"34.00\", \"12\"),\n",
    "                    (\"MSFT\", \"Microsoft\", \"2.50\", \"1\"),\n",
    "                    (\"TSLA\", \"Tesla\", \"750.00\", \"9\"),\n",
    "                    (\"NFLX\", \"Netflix\", \"550.00\", \"40\"),\n",
    "                    (\"FB\", \"Facebook\", \"350.00\", \"5\"),\n",
    "                    (\"NVDA\", \"Nvidia\", \"60.00\", \"80\"),\n",
    "                    (\"DIS\", \"Disney\", \"80.00\", \"5\"),\n",
    "                    (\"V\", \"Visa\", \"20.00\", \"1\")]\n",
    "    #Insert the dummy entries into the stock table\n",
    "    cursor.executemany(\"INSERT INTO stockdemo (ticker, stock_name, stock_value, quantity) VALUES (%s, %s, %s, %s)\", stockinfo)\n",
    "    #Commit the changes to the database \n",
    "    stock_db.commit()"
   ]
  }
 ],
 "metadata": {
  "kernelspec": {
   "display_name": "wisdomenv",
   "language": "python",
   "name": "python3"
  },
  "language_info": {
   "codemirror_mode": {
    "name": "ipython",
    "version": 3
   },
   "file_extension": ".py",
   "mimetype": "text/x-python",
   "name": "python",
   "nbconvert_exporter": "python",
   "pygments_lexer": "ipython3",
   "version": "3.13.2"
  }
 },
 "nbformat": 4,
 "nbformat_minor": 2
}
